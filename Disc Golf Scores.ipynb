{
 "cells": [
  {
   "cell_type": "code",
   "execution_count": 2,
   "id": "4f6637b1",
   "metadata": {},
   "outputs": [],
   "source": [
    "from bs4 import BeautifulSoup\n",
    "from requests import get\n",
    "from csv import writer\n",
    "import datetime\n",
    "import pandas as pd\n",
    "import re"
   ]
  },
  {
   "cell_type": "code",
   "execution_count": 43,
   "id": "aab4ab58",
   "metadata": {},
   "outputs": [],
   "source": [
    "def get_scores(output_path):\n",
    "\n",
    "    url = input(\"Name of Event: \")\n",
    "\n",
    "    month = str(input(\"Beginning Month of Search (01, 02...): \"))\n",
    "    \n",
    "    year = str(input(\"Beginning Year to Search (2022, 2023...): \"))\n",
    "    \n",
    "    end_year = str(input(\"End Year \"))\n",
    "\n",
    "    url = url.replace(' ', '%20')\n",
    "\n",
    "    search = f'https://www.pdga.com/tour/search?OfficialName={url}&date_filter[min][date]={year}-{month}-01&date_filter[max][date]={end_year}-12-31'\n",
    "\n",
    "    searcher = get(search)\n",
    "\n",
    "    souper = BeautifulSoup(searcher.text, 'lxml')\n",
    "\n",
    "    event_nums = set()\n",
    "\n",
    "    for events in souper.find_all('a', {'href': re.compile('\\/t\\w*\\/e\\w*\\/\\d\\d\\d\\d\\d')}):\n",
    "        event_link = events.get('href')\n",
    "        event_num = event_link[-5:]\n",
    "        event_nums.add(event_num)\n",
    "\n",
    "    for x in event_nums:\n",
    "        URL = f'https://www.pdga.com/tour/event/{x}'\n",
    "\n",
    "        r = get(URL)\n",
    "        soup = BeautifulSoup(r.text, 'lxml')\n",
    "\n",
    "        # get all tables\n",
    "        tables = soup.find_all('table')\n",
    "        titular = str(soup.find('title'))\n",
    "\n",
    "        title = titular.split('|')[0].replace('<title>','')\n",
    "        title = title.replace('/', '')\n",
    "        title = title.replace(' ','_')\n",
    "\n",
    "        bdf = pd.DataFrame()\n",
    "\n",
    "        # loop over each table\n",
    "        for num, table in enumerate(tables, start=1):\n",
    "\n",
    "            # create filename\n",
    "            filename = f'{output_path}\\\\{title}{year}_{num}.csv'\n",
    "\n",
    "            # open file for writing\n",
    "            with open(filename, 'w', encoding='utf-8') as f:\n",
    "\n",
    "                # store rows here\n",
    "                data = []\n",
    "\n",
    "                # create csv writer object\n",
    "                csv_writer = writer(f)\n",
    "\n",
    "                # go through each row\n",
    "                rows = table.find_all('tr')\n",
    "                for row in rows:\n",
    "\n",
    "                    # write headers if any\n",
    "                    headers = row.find_all('th')\n",
    "                    if headers:\n",
    "                        csv_writer.writerow([header.text.strip() for header in headers])\n",
    "\n",
    "                    # write column items\n",
    "                    columns = row.find_all('td')\n",
    "                    csv_writer.writerow([column.text.strip() for column in columns]) \n",
    "            df = pd.read_csv(filename)\n",
    "            if (list(df.columns.values)[0] == 'Place'):\n",
    "                bdf = pd.concat([bdf, df])\n",
    "            else:\n",
    "                pass\n",
    "\n",
    "        bdf.to_csv(f'{output_path}\\\\{title}{year}_merge.csv',index=False)\n",
    "        path_to_bdf = str(f'{output_path}\\\\{title}{year}_merge.csv')\n",
    "        url = url.replace('%20', '_')\n",
    "        return path_to_bdf, url"
   ]
  },
  {
   "cell_type": "markdown",
   "id": "64d9a7f7",
   "metadata": {},
   "source": [
    "## fix deleting cols based on returned list"
   ]
  },
  {
   "cell_type": "code",
   "execution_count": 71,
   "id": "381f7737",
   "metadata": {},
   "outputs": [],
   "source": [
    "def update_tables(path_to_roster, scores_df_path):\n",
    "    roster = pd.read_csv(path_to_roster, dtype=str)\n",
    "    scores_df = pd.read_csv(scores_df_path, dtype=str)\n",
    "    found_players = pd.DataFrame(scores_df[scores_df['PDGA#'].isin(roster['Current PDGA#'])])\n",
    "    roster = roster.set_index('Current PDGA#')\n",
    "    found_players = found_players.set_index('PDGA#')\n",
    "    merge = roster.join(found_players, how='left',lsuffix='_l', rsuffix='_r')\n",
    "    merge = merge.reset_index()\n",
    "    merge = merge.sort_values(by=['Team', 'Current Roster #'])\n",
    "    cols = ['Team', 'PDGA #', 'Drafted', 'Current Roster', 'Current PDGA#', 'Current Roster #', 'Place']\n",
    "    listy = merge.columns.to_list()\n",
    "    listy2 = list(set(listy).difference(cols))\n",
    "    for x in listy2:\n",
    "        del merge[x]\n",
    "    print(merge)\n",
    "    merge = merge[['Team', 'PDGA #', 'Drafted', 'Current Roster', 'Current Roster #', 'Place']]\n",
    "    return merge"
   ]
  },
  {
   "cell_type": "code",
   "execution_count": 72,
   "id": "3ed47ed1",
   "metadata": {},
   "outputs": [],
   "source": [
    "def main():\n",
    "    path = input(\"Output Path? > \")\n",
    "    table_df, url = get_scores(path)\n",
    "    roster_path = input(\"Path to Roster? > \")\n",
    "    new_table = update_tables(roster_path, table_df)\n",
    "    out = path + f'\\\\{url}_roster_updated'\n",
    "    new_table.to_csv(out+'.csv', index=False)"
   ]
  },
  {
   "cell_type": "code",
   "execution_count": 74,
   "id": "865530d5",
   "metadata": {},
   "outputs": [
    {
     "name": "stdout",
     "output_type": "stream",
     "text": [
      "Output Path? > C:\\Users\\attk2\\Documents\\Disc Golf Scores\n",
      "Name of Event: PDGA Champion\n",
      "Beginning Month of Search (01, 02...): 01\n",
      "Beginning Year to Search (2022, 2023...): 2022\n",
      "End Year 2022\n",
      "Path to Roster? > C:\\Users\\attk2\\Documents\\Team_Rosters.csv\n",
      "                            Team          Drafted PDGA # Current Roster #  \\\n",
      "40  Big Barri Tea Time (Danelle)   Ricky Wysocki     NaN              NaN   \n",
      "41  Big Barri Tea Time (Danelle)    Ohn Scoggins     NaN              NaN   \n",
      "42  Big Barri Tea Time (Danelle)      Ella Hansen    NaN              NaN   \n",
      "43  Big Barri Tea Time (Danelle)    Jeremy Koling    NaN              NaN   \n",
      "44  Big Barri Tea Time (Danelle)  Andrew Presnell    NaN              NaN   \n",
      "..                           ...              ...    ...              ...   \n",
      "75                 The_Legit_Pat        Matt Bell    NaN              NaN   \n",
      "76                 The_Legit_Pat      Eric Oakley    NaN              NaN   \n",
      "77                 The_Legit_Pat      Casey White    NaN              NaN   \n",
      "78                 The_Legit_Pat      Kat Mertsch    NaN              NaN   \n",
      "79                 The_Legit_Pat    Noah Meintsma    NaN              NaN   \n",
      "\n",
      "   Current Roster Place  \n",
      "40            NaN   NaN  \n",
      "41            NaN   NaN  \n",
      "42            NaN   NaN  \n",
      "43            NaN   NaN  \n",
      "44            NaN   NaN  \n",
      "..            ...   ...  \n",
      "75            NaN   NaN  \n",
      "76            NaN   NaN  \n",
      "77            NaN   NaN  \n",
      "78            NaN   NaN  \n",
      "79            NaN   NaN  \n",
      "\n",
      "[100 rows x 6 columns]\n"
     ]
    }
   ],
   "source": [
    "main()"
   ]
  },
  {
   "cell_type": "code",
   "execution_count": 8,
   "id": "190fc8bb",
   "metadata": {},
   "outputs": [],
   "source": [
    "df = pd.read_excel(r\"C:\\Users\\attk2\\Documents\\DTW Fantasy Disc Golf 2022.xlsx\", dtype=str)\n",
    "df.to_csv(r\"C:\\Users\\attk2\\Documents\\DTW Fantasy Disc Golf 2022.csv\")"
   ]
  },
  {
   "cell_type": "code",
   "execution_count": null,
   "id": "2d4fe89f",
   "metadata": {},
   "outputs": [],
   "source": []
  }
 ],
 "metadata": {
  "kernelspec": {
   "display_name": "Python 3 (ipykernel)",
   "language": "python",
   "name": "python3"
  },
  "language_info": {
   "codemirror_mode": {
    "name": "ipython",
    "version": 3
   },
   "file_extension": ".py",
   "mimetype": "text/x-python",
   "name": "python",
   "nbconvert_exporter": "python",
   "pygments_lexer": "ipython3",
   "version": "3.9.12"
  }
 },
 "nbformat": 4,
 "nbformat_minor": 5
}
