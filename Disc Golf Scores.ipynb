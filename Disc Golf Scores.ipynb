{
 "cells": [
  {
   "cell_type": "code",
   "execution_count": 1,
   "id": "4f6637b1",
   "metadata": {},
   "outputs": [],
   "source": [
    "from bs4 import BeautifulSoup\n",
    "from requests import get\n",
    "from csv import writer\n",
    "import datetime\n",
    "import pandas as pd\n",
    "import re"
   ]
  },
  {
   "cell_type": "code",
   "execution_count": 2,
   "id": "aab4ab58",
   "metadata": {},
   "outputs": [],
   "source": [
    "def get_scores(output_path):\n",
    "\n",
    "    url = input(\"Name of Event: \")\n",
    "\n",
    "    month = str(input(\"Beginning Month of Search (01, 02...): \"))\n",
    "    \n",
    "    year = str(input(\"Year to Search (2022, 2023...): \"))\n",
    "\n",
    "    url = url.replace(' ', '%20')\n",
    "\n",
    "    search = f'https://www.pdga.com/tour/search?OfficialName={url}&date_filter[min][date]={year}-{month}-01&date_filter[max][date]=2024-02-15'\n",
    "\n",
    "    date = datetime.datetime.date(datetime.datetime.now())\n",
    "\n",
    "    dater = str(date)[0:4]\n",
    "\n",
    "    searcher = get(search)\n",
    "\n",
    "    souper = BeautifulSoup(searcher.text, 'lxml')\n",
    "\n",
    "    event_nums = set()\n",
    "\n",
    "    for events in souper.find_all('a', {'href': re.compile('\\/t\\w*\\/e\\w*\\/\\d\\d\\d\\d\\d')}):\n",
    "        event_link = events.get('href')\n",
    "        event_num = event_link[-5:]\n",
    "        event_nums.add(event_num)\n",
    "\n",
    "    for x in event_nums:\n",
    "        URL = f'https://www.pdga.com/tour/event/{x}'\n",
    "\n",
    "        r = get(URL)\n",
    "        soup = BeautifulSoup(r.text, 'lxml')\n",
    "\n",
    "        # get all tables\n",
    "        tables = soup.find_all('table')\n",
    "        titular = str(soup.find('title'))\n",
    "\n",
    "        title = titular.split('|')[0].replace('<title>','')\n",
    "        title = title.replace('/', '')\n",
    "        title = title.replace(' ','_')\n",
    "\n",
    "        bdf = pd.DataFrame()\n",
    "\n",
    "        # loop over each table\n",
    "        for num, table in enumerate(tables, start=1):\n",
    "\n",
    "            # create filename\n",
    "            filename = f'{output_path}\\\\{title}{dater}_{num}.csv'\n",
    "\n",
    "            # open file for writing\n",
    "            with open(filename, 'w', encoding='utf-8') as f:\n",
    "\n",
    "                # store rows here\n",
    "                data = []\n",
    "\n",
    "                # create csv writer object\n",
    "                csv_writer = writer(f)\n",
    "\n",
    "                # go through each row\n",
    "                rows = table.find_all('tr')\n",
    "                for row in rows:\n",
    "\n",
    "                    # write headers if any\n",
    "                    headers = row.find_all('th')\n",
    "                    if headers:\n",
    "                        csv_writer.writerow([header.text.strip() for header in headers])\n",
    "\n",
    "                    # write column items\n",
    "                    columns = row.find_all('td')\n",
    "                    csv_writer.writerow([column.text.strip() for column in columns]) \n",
    "            df = pd.read_csv(filename)\n",
    "            if list(df.columns.values)[0] == 'Place':\n",
    "                bdf = pd.concat([bdf, df])\n",
    "            else:\n",
    "                pass\n",
    "\n",
    "        bdf.to_csv(f'{output_path}\\\\{title}{dater}_merge.csv',index=False)\n",
    "        path_to_bdf = str(f'{output_path}\\\\{title}{dater}_merge.csv')\n",
    "        url = url.replace('%20', '_')\n",
    "        return path_to_bdf, url"
   ]
  },
  {
   "cell_type": "markdown",
   "id": "64d9a7f7",
   "metadata": {},
   "source": [
    "## fix PDGA# corresponding to 'drafted' vs 'current roster'"
   ]
  },
  {
   "cell_type": "code",
   "execution_count": 26,
   "id": "381f7737",
   "metadata": {},
   "outputs": [],
   "source": [
    "def update_tables(path_to_roster, scores_df_path):\n",
    "    roster = pd.read_csv(path_to_roster, dtype=str)\n",
    "    scores_df = pd.read_csv(scores_df_path, dtype=str)\n",
    "    found_players = pd.DataFrame(scores_df[scores_df['PDGA#'].isin(roster['PDGA#'])])\n",
    "    roster = roster.set_index('PDGA#')\n",
    "    found_players = found_players.set_index('PDGA#')\n",
    "    merge = roster.join(found_players, how='inner', rsuffix='_r')\n",
    "    merge = merge.reset_index()\n",
    "    merge = merge.sort_values(by=['Team', 'Current Roster #'])\n",
    "    del merge['Points']\n",
    "    del merge['Name']\n",
    "    del merge['Rating']\n",
    "    del merge['Par']\n",
    "    del merge['Rd1']\n",
    "    del merge['Unnamed: 7']\n",
    "    del merge['Rd2']\n",
    "    del merge['Unnamed: 9']\n",
    "    del merge['Rd3']\n",
    "    del merge['Unnamed: 11']\n",
    "    del merge['Total']\n",
    "    del merge['Prize']\n",
    "    return merge"
   ]
  },
  {
   "cell_type": "code",
   "execution_count": 27,
   "id": "3ed47ed1",
   "metadata": {},
   "outputs": [],
   "source": [
    "def main():\n",
    "    path = input(\"Output Path? > \")\n",
    "    table_df, url = get_scores(path)\n",
    "    roster_path = input(\"Path to Roster? > \")\n",
    "    new_table = update_tables(roster_path, table_df)\n",
    "    out = path + f'\\\\{url}_roster_updated'\n",
    "    new_table.to_csv(out+'.csv')"
   ]
  },
  {
   "cell_type": "code",
   "execution_count": 25,
   "id": "865530d5",
   "metadata": {},
   "outputs": [
    {
     "name": "stdout",
     "output_type": "stream",
     "text": [
      "Output Path? > C:\\Users\\Z\\Documents\\Disc Golf\\Test CSVs\n",
      "Name of Event: Waco Annual Charity\n",
      "Beginning Month of Search (01, 02...): 01\n",
      "Year to Search (2022, 2023...): 2022\n",
      "Path to Roster? > C:\\Users\\Z\\Documents\\Team_Rosters.csv\n"
     ]
    }
   ],
   "source": [
    "main()"
   ]
  },
  {
   "cell_type": "code",
   "execution_count": null,
   "id": "190fc8bb",
   "metadata": {},
   "outputs": [],
   "source": []
  }
 ],
 "metadata": {
  "kernelspec": {
   "display_name": "Python 3 (ipykernel)",
   "language": "python",
   "name": "python3"
  },
  "language_info": {
   "codemirror_mode": {
    "name": "ipython",
    "version": 3
   },
   "file_extension": ".py",
   "mimetype": "text/x-python",
   "name": "python",
   "nbconvert_exporter": "python",
   "pygments_lexer": "ipython3",
   "version": "3.9.12"
  }
 },
 "nbformat": 4,
 "nbformat_minor": 5
}
